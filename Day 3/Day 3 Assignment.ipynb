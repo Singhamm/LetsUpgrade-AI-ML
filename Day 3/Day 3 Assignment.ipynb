{
 "cells": [
  {
   "cell_type": "code",
   "execution_count": 4,
   "metadata": {},
   "outputs": [
    {
     "data": {
      "text/plain": [
       "(2+3j)"
      ]
     },
     "execution_count": 4,
     "metadata": {},
     "output_type": "execute_result"
    }
   ],
   "source": [
    "#Write a program to subtract two complex numbers in Python\n",
    "a =(4+6j)\n",
    "b =(2+3j)\n",
    "c = a-b\n",
    "c"
   ]
  },
  {
   "cell_type": "code",
   "execution_count": 11,
   "metadata": {},
   "outputs": [
    {
     "data": {
      "text/plain": [
       "2.8284271247461903"
      ]
     },
     "execution_count": 11,
     "metadata": {},
     "output_type": "execute_result"
    }
   ],
   "source": [
    "#Write a program to find the fourth root of a number.\n",
    "a = 64**(1/4)\n",
    "a"
   ]
  },
  {
   "cell_type": "code",
   "execution_count": 16,
   "metadata": {},
   "outputs": [
    {
     "name": "stdout",
     "output_type": "stream",
     "text": [
      "Initial Value of a is: 4\n",
      "Initial Value of b is: 5\n",
      "Swapped Value of a is: 5 and b is: 4\n"
     ]
    }
   ],
   "source": [
    "#Write a program to swap two numbers in Python with the help of a temporary variable.\n",
    "#Initially, a = 4, b = 5\n",
    "a = 4\n",
    "b = 5\n",
    "print (\"Initial Value of a is:\",a)\n",
    "print (\"Initial Value of b is:\",b)\n",
    "temp = a\n",
    "a = b\n",
    "b = temp\n",
    "print (\"Swapped Value of a is:\",a, \"and b is:\",b)"
   ]
  },
  {
   "cell_type": "code",
   "execution_count": 25,
   "metadata": {},
   "outputs": [
    {
     "name": "stdout",
     "output_type": "stream",
     "text": [
      "Converted Value of Fahrenheit: 212  to Kelvin is: 373.15 and to Celcius is: 100.0\n"
     ]
    }
   ],
   "source": [
    "#Write a program to convert fahrenheit to kelvin and celsius both.\n",
    "# Formulae for fahrenheit to celcius: C = (F - 32)/1.80\n",
    "# Formulae for fahrenheit to kelvin: K = 5/9(F - 32) + 273.15\n",
    "f = 212\n",
    "c = (f-32)/1.80\n",
    "k = ((5/9)*(f-32))+273.15\n",
    "\n",
    "print (\"Converted Value of Fahrenheit:\",f, \" to Kelvin is:\",k, \"and to Celcius is:\",c)"
   ]
  },
  {
   "cell_type": "code",
   "execution_count": 32,
   "metadata": {},
   "outputs": [
    {
     "name": "stdout",
     "output_type": "stream",
     "text": [
      "Datatypes in Python ::\n",
      "1-> Numerical: a=3 is  <class 'int'>  2-> b=2.5 is  <class 'float'>  c= 2+3j is:  <class 'complex'>\n",
      "2-> String: d= Python is  <class 'str'>\n",
      "3-> Boolean: e= True is  <class 'bool'>\n",
      "4-> List: f=[1,2,3] is  <class 'list'>\n",
      "5-> Tuple: g=(1,2,3) is  <class 'tuple'>\n",
      "6-> Set: h={1,2,3} is  <class 'set'>\n"
     ]
    }
   ],
   "source": [
    "#Write a program to demonstrate all the available data types in Python. Hint: Use type() function.\n",
    "a = type(3)\n",
    "b = type(2.5)\n",
    "c = type(2+3j)\n",
    "d = type(\"Python\")\n",
    "e = type(True)\n",
    "f = type([1,2,3])\n",
    "g = type((1,2,3))\n",
    "h = type({1,2,3})\n",
    "\n",
    "print (\"Datatypes in Python ::\")\n",
    "print (\"1-> Numerical: a=3 is \",a,\" 2-> b=2.5 is \",b,\" c= 2+3j is: \",c)\n",
    "print (\"2-> String: d= Python is \",d)\n",
    "print (\"3-> Boolean: e= True is \",e)\n",
    "print (\"4-> List: f=[1,2,3] is \",f)\n",
    "print (\"5-> Tuple: g=(1,2,3) is \",g)\n",
    "print (\"6-> Set: h={1,2,3} is \",h)"
   ]
  },
  {
   "cell_type": "code",
   "execution_count": 33,
   "metadata": {},
   "outputs": [],
   "source": [
    "#Create a Markdown cell in jupyter and list the steps discussed in the session by Dr. DarshanIngle sir to create Github profile and upload Githubs Assignment link."
   ]
  },
  {
   "cell_type": "markdown",
   "metadata": {},
   "source": [
    "Steps needed to create Github profile by Dr. Darshan Ingle Sir:\n",
    "1: Goto github.com\n",
    "2: Create an account(if not have one) or login\n",
    "3: Create or complete the assignment in Jupyter Notebook(Create Daywise file and folder)\n",
    "4: Goto github again and click the \"new\" button at the top left.\n",
    "5: In Repository Name: LetsUpgrade AI-ML and in Description: Assignment. It'll remain Public.\n",
    "6: Afterwards click on \"Create Repository\"\n",
    "7: A folder with name \"LetsUpgrade AI-ML\" will be created\n",
    "8: Now select \"upload existing files\".\n",
    "9: Simply drag and drop the folder with the assignment.\n",
    "10: Click on \"Commit Changes\"\n",
    "11: Select the uploaded folder in Github and copy the URL.\n",
    "12: Open the assignment submittal format provided and fill the details.\n",
    "13: Select the day of assignment and paste the copied URL in the provided section for Github in the format.\n",
    "14: To cross check one can go to incognito mode and can paste the URL to check\n",
    "15: Click Submit."
   ]
  }
 ],
 "metadata": {
  "kernelspec": {
   "display_name": "Python 3",
   "language": "python",
   "name": "python3"
  },
  "language_info": {
   "codemirror_mode": {
    "name": "ipython",
    "version": 3
   },
   "file_extension": ".py",
   "mimetype": "text/x-python",
   "name": "python",
   "nbconvert_exporter": "python",
   "pygments_lexer": "ipython3",
   "version": "3.7.6"
  }
 },
 "nbformat": 4,
 "nbformat_minor": 4
}
