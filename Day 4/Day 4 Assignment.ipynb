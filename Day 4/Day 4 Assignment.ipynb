{
 "cells": [
  {
   "cell_type": "code",
   "execution_count": 6,
   "metadata": {},
   "outputs": [
    {
     "name": "stdout",
     "output_type": "stream",
     "text": [
      "Below are the various functions we can use with complex numbers:\n",
      "1->Addition of two complex numbers: (9+6j)\n",
      "2->Addition of two complex numbers: (3+2j)\n",
      "3->Addition of two complex numbers: (10+24j)\n",
      "4->Addition of two complex numbers: (2+0j)\n"
     ]
    }
   ],
   "source": [
    "#Question: Research on whether addition, subtraction, multiplication, division, floor division and modulooperations be performed on complex numbers. Based on your study, implement a Pythonprogram to demonstrate these operations.\n",
    "#Answer: After going through several websites I found that floor division and modulo operations were in Python 2.X but is now not in Python 3.X\n",
    "a = 6+4j\n",
    "b = 3+2j\n",
    "print(\"Below are the various functions we can use with complex numbers:\")\n",
    "print(\"1->Addition of two complex numbers:\",a+b)\n",
    "print(\"2->Addition of two complex numbers:\",a-b)\n",
    "print(\"3->Addition of two complex numbers:\",a*b)\n",
    "print(\"4->Addition of two complex numbers:\",a/b)\n",
    "#print(\"5->Addition of two complex numbers:\",a//b) -->TypeError: can't take floor of complex number.\n",
    "#print(\"6->Addition of two complex numbers:\",a%b)--> TypeError: can't mod complex numbers."
   ]
  },
  {
   "cell_type": "markdown",
   "metadata": {},
   "source": [
    "-----------------------------------------------------------------------------------------------------------------------\n",
    "#Question: Research on range() functions and its parameters. Create a markdown cell and write in your ownwords (no copy-paste from google please) what you understand about it. Implement a smallprogram of your choice on the same.\n",
    "#Answer: range() is used to generate a series of numbers within the range provided in the range function.\n",
    "There are basically three parameters: Start:: Stop :: Step\n",
    "eg: 1: range(n)--> It'll generate a series as 0,1,2,3,4...(n-1)\n",
    "    2: range(1:6:1)--> Will start from position 1 and will go till 5th position and will have a step of 1 that means will skip every alternative position.\n",
    "    Below is a program demonstrating the same:"
   ]
  },
  {
   "cell_type": "code",
   "execution_count": 14,
   "metadata": {},
   "outputs": [
    {
     "name": "stdout",
     "output_type": "stream",
     "text": [
      "0\n",
      "1\n",
      "2\n",
      "3\n",
      "4\n",
      "5\n",
      "6\n",
      "7\n",
      "8\n"
     ]
    }
   ],
   "source": [
    "#Example 1:\n",
    "for i in range(9):\n",
    "    print (i)"
   ]
  },
  {
   "cell_type": "code",
   "execution_count": 15,
   "metadata": {},
   "outputs": [
    {
     "name": "stdout",
     "output_type": "stream",
     "text": [
      "0\n",
      "2\n",
      "4\n",
      "6\n",
      "8\n"
     ]
    }
   ],
   "source": [
    "#Example 2:\n",
    "for i in range(0,9,2):\n",
    "    print (i)"
   ]
  },
  {
   "cell_type": "code",
   "execution_count": 18,
   "metadata": {},
   "outputs": [
    {
     "name": "stdout",
     "output_type": "stream",
     "text": [
      "1.2916666666666667\n"
     ]
    }
   ],
   "source": [
    "#Question: Consider two numbers. Perform their subtraction and if the result of subtraction is greater than25, print their multiplication result else print their division result.\n",
    "#Answer:\n",
    "a = 62\n",
    "b = 48\n",
    "if ((a-b)>25):\n",
    "    print (a*b)\n",
    "else:\n",
    "    print (a/b)"
   ]
  },
  {
   "cell_type": "code",
   "execution_count": 24,
   "metadata": {},
   "outputs": [
    {
     "name": "stdout",
     "output_type": "stream",
     "text": [
      "2\n",
      "14\n",
      "34\n",
      "62\n",
      "98\n"
     ]
    }
   ],
   "source": [
    "#Question: Consider a list of 10 elements of integer values. If the number in the list is divisible by 2, print theresult as \"square of that number minus 2\".\n",
    "#Answer: \n",
    "list_sample = [2,3,4,5,6,7,8,9,10,11]\n",
    "for i in list_sample:\n",
    "    if (i%2==0):\n",
    "        print ((i**2)-2)"
   ]
  },
  {
   "cell_type": "code",
   "execution_count": 28,
   "metadata": {},
   "outputs": [
    {
     "name": "stdout",
     "output_type": "stream",
     "text": [
      "25\n",
      "50\n",
      "100\n"
     ]
    }
   ],
   "source": [
    "#Question: Consider a list of 10 elements. Print all the elements in the list which are greater than 7 when thatnumber is divided 2.\n",
    "#Answer:\n",
    "list_sample = [2,3,25,50,6,7,100,9,10,11]\n",
    "for i in list_sample:\n",
    "    if ((i/2)>7):\n",
    "        print (i)"
   ]
  },
  {
   "cell_type": "code",
   "execution_count": null,
   "metadata": {},
   "outputs": [],
   "source": []
  }
 ],
 "metadata": {
  "kernelspec": {
   "display_name": "Python 3",
   "language": "python",
   "name": "python3"
  },
  "language_info": {
   "codemirror_mode": {
    "name": "ipython",
    "version": 3
   },
   "file_extension": ".py",
   "mimetype": "text/x-python",
   "name": "python",
   "nbconvert_exporter": "python",
   "pygments_lexer": "ipython3",
   "version": "3.7.6"
  }
 },
 "nbformat": 4,
 "nbformat_minor": 4
}
