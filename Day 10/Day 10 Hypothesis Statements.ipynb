{
 "cells": [
  {
   "cell_type": "markdown",
   "metadata": {},
   "source": [
    "# Assignment 10: Hypothesis Statement based on the Attrition Dataset:"
   ]
  },
  {
   "cell_type": "raw",
   "metadata": {},
   "source": [
    "Between Attrition and Age:\n",
    "H0: There is no correlation between Attrition and Age\n",
    "H1: Attrition and Age are correlated\n",
    "\n",
    "Between Attrition and DistanceFromHome:\n",
    "H0: There is no correlation between Attrition and DistanceFromHome\n",
    "H1: Attrition and DistanceFromHome are correlated\n",
    "\n",
    "Between Attrition and Age:\n",
    "H0: There is no correlation between Attrition and Education\n",
    "H1: Attrition and Education are correlated\n",
    "\n",
    "Between Attrition and JobLevel\n",
    "\n",
    "H0: There is no correlation between Attrition and JobLevel\n",
    "H1: Attrition and JobLevel are correlated\n",
    "\n",
    "Between Attrition and MonthlyIncome:\n",
    "H0: There is no correlation between Attrition and MonthlyIncome\n",
    "H1: Attrition and MonthlyIncome are correlated\n",
    "\n",
    "Between Attrition and NumComapniesWorked:\n",
    "H0: There is no correlation between Attrition and NumComapniesWorked\n",
    "H1: Attrition and NumComapniesWorked are correlated\n",
    "\n",
    "Between Attrition and PercentSalaryHike:\n",
    "H0: There is no correlation between Attrition and PercentSalaryHike\n",
    "H1: Attrition and PercentSalaryHike are correlated\n",
    "\n",
    "Between Attrition and StockOptionLevel:\n",
    "H0: There is no correlation between Attrition and StockOptionLevel\n",
    "H1: Attrition and StockOptionLevel are correlated\n",
    "\n",
    "Between Attrition and TotalWorkingYears:\n",
    "H0: There is no correlation between Attrition and TotalWorkingYears\n",
    "H1: Attrition and TotalWorkingYears are correlated\n",
    "\n",
    "Between Attrition and TrainingTimesLastYear:\n",
    "H0: There is no correlation between Attrition and TrainingTimesLastYear\n",
    "H1: Attrition and TrainingTimesLastYear are correlated\n",
    "\n",
    "Between Attrition and YearsAtCompanies:\n",
    "H0: There is no correlation between Attrition and YearsAtCompanies\n",
    "H1: Attrition and YearsAtCompanies are correlated\n",
    "\n",
    "Between Attrition and YearsSinceLastPromotion:\n",
    "H0: There is no correlation between Attrition and YearsSinceLastPromotion\n",
    "H1: Attrition and YearsSinceLastPromotion are correlated\n",
    "\n",
    "Between Attrition and YearsWithCurrManager:\n",
    "H0: There is no correlation between Attrition and YearsWithCurrManager\n",
    "H1: Attrition and YearsWithCurrManager are correlated"
   ]
  }
 ],
 "metadata": {
  "kernelspec": {
   "display_name": "Python 3",
   "language": "python",
   "name": "python3"
  },
  "language_info": {
   "codemirror_mode": {
    "name": "ipython",
    "version": 3
   },
   "file_extension": ".py",
   "mimetype": "text/x-python",
   "name": "python",
   "nbconvert_exporter": "python",
   "pygments_lexer": "ipython3",
   "version": "3.8.5"
  }
 },
 "nbformat": 4,
 "nbformat_minor": 4
}
