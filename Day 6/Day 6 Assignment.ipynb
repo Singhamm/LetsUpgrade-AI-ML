{
 "cells": [
  {
   "cell_type": "code",
   "execution_count": 1,
   "metadata": {},
   "outputs": [
    {
     "name": "stdout",
     "output_type": "stream",
     "text": [
      "Please enter the an email address:john@gmail.com\n",
      "Name of the company: gmail\n"
     ]
    }
   ],
   "source": [
    "#Question 1: Assuming that we have some email addresses in the \"username@companyname.com\" format, please write program to print the company name of a given email address. Both user names and company names are composed of letters only.\n",
    "#Answer:\n",
    "email = input(\"Please enter the an email address:\")\n",
    "\n",
    "def company_name(email):\n",
    "  return (email.split('@')[-1].split('.')[0])\n",
    "\n",
    "print(\"Name of the company:\", company_name(email))"
   ]
  },
  {
   "cell_type": "code",
   "execution_count": 3,
   "metadata": {},
   "outputs": [
    {
     "name": "stdout",
     "output_type": "stream",
     "text": [
      "Please share the comma-separated values you want to arrange:without,hello,bag,world\n",
      "bag,hello,without,world,\n"
     ]
    }
   ],
   "source": [
    "#Question 2: Write a program that accepts a comma-separated sequence of words as input and prints the words in a comma separated sequence after sorting them alphabetically.\n",
    "#Answer:\n",
    "string_acceptor = input(\"Please share the comma-separated values you want to arrange:\")\n",
    "lt = string_acceptor.split(\",\")\n",
    "\n",
    "def string_adder(list_adder):\n",
    "  list_adder.sort()\n",
    "  new = \"\"\n",
    "  for char in list_adder:\n",
    "    new += (char+\",\")\n",
    "  return new\n",
    "\n",
    "print(string_adder(lt))"
   ]
  },
  {
   "cell_type": "code",
   "execution_count": 4,
   "metadata": {},
   "outputs": [],
   "source": [
    "#Question 3: Create your own Jupyter Notebook for Sets.\n",
    "#Answer:\n"
   ]
  },
  {
   "cell_type": "code",
   "execution_count": 14,
   "metadata": {},
   "outputs": [
    {
     "name": "stdout",
     "output_type": "stream",
     "text": [
      "5.0\n"
     ]
    }
   ],
   "source": [
    "#Question 4: Given a list of n-1 numbers ranging from 1 to n, your task is to find the missing number. There are no duplicates.\n",
    "#Answer: def missing_number(lt):\n",
    "    x = len(lt)+1        # Since the provided list is of n-1 and we need to take n for the sum\n",
    "    sum = 0\n",
    "    formulated_total = x * (x+1)/2\n",
    "   # print(formulated_total)\n",
    "    for char in lt:\n",
    "        sum += char\n",
    "     #   print (sum)\n",
    "    return formulated_total-sum\n",
    "\n",
    "print(missing_number([1,2,4,6,3,7,8]))"
   ]
  },
  {
   "cell_type": "code",
   "execution_count": 18,
   "metadata": {},
   "outputs": [
    {
     "name": "stdout",
     "output_type": "stream",
     "text": [
      "Enter a list of elements separated by space: 12 24 35 24 88 120 155 88 120 155\n",
      "Inserted list: 12 24 35 24 88 120 155 88 120 155\n",
      "Output of the list without duplicate values: 12 24 35 88 120 155\n"
     ]
    }
   ],
   "source": [
    "#Question 5: With a given list L, write a program to print this list L after removing all duplicate values with original order reserved.\n",
    "#Answer:\n",
    "L = input(\"Enter a list of elements separated by space: \")\n",
    "print(\"Inserted list:\",L)\n",
    "\n",
    "L_list = L.split()\n",
    "\n",
    "def remove_duplicate(list_input):\n",
    "    cont_list = []\n",
    "    for i in list_input:\n",
    "        if i not in cont_list:\n",
    "            cont_list.append(i)\n",
    "    return cont_list\n",
    "\n",
    "\n",
    "new_L = remove_duplicate(L_list)\n",
    "print(\"Output of the list without duplicate values:\",\" \".join(new_L))"
   ]
  },
  {
   "cell_type": "code",
   "execution_count": null,
   "metadata": {},
   "outputs": [],
   "source": []
  }
 ],
 "metadata": {
  "kernelspec": {
   "display_name": "Python 3",
   "language": "python",
   "name": "python3"
  },
  "language_info": {
   "codemirror_mode": {
    "name": "ipython",
    "version": 3
   },
   "file_extension": ".py",
   "mimetype": "text/x-python",
   "name": "python",
   "nbconvert_exporter": "python",
   "pygments_lexer": "ipython3",
   "version": "3.7.6"
  }
 },
 "nbformat": 4,
 "nbformat_minor": 4
}
