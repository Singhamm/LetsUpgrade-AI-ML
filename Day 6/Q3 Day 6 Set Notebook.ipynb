{
 "cells": [
  {
   "cell_type": "code",
   "execution_count": 1,
   "metadata": {},
   "outputs": [],
   "source": [
    "#Question3"
   ]
  },
  {
   "cell_type": "code",
   "execution_count": 2,
   "metadata": {},
   "outputs": [
    {
     "name": "stdout",
     "output_type": "stream",
     "text": [
      "A set is a collection which is unordered and unindexed. In Python sets are written with curly brackets.\n",
      "Here is an example:demo_set = {\"apple\", \"banana\", \"cherry\"}\n"
     ]
    }
   ],
   "source": [
    "print(\"A set is a collection which is unordered and unindexed. In Python sets are written with curly brackets.\")\n",
    "print(\"Here is an example:demo_set = {\\\"apple\\\", \\\"banana\\\", \\\"cherry\\\"}\")\n",
    "\n",
    "demo_set = {\"apple\", \"banana\", \"cherry\"}"
   ]
  },
  {
   "cell_type": "code",
   "execution_count": 3,
   "metadata": {},
   "outputs": [
    {
     "name": "stdout",
     "output_type": "stream",
     "text": [
      "Access Items\n",
      " You cannot access items in a set by referring to an index, since sets are unordered the items has no index. \n",
      " But you can loop through the set items using a for loop, or ask if a specified value is present in a set, by using the in keyword.\n",
      "\n",
      "Syntax: print(\"banana\" in {\"apple\", \"banana\", \"cherry\"}\n",
      "Output is:  True\n"
     ]
    }
   ],
   "source": [
    "print(\"Access Items\\n You cannot access items in a set by referring to an index, since sets are unordered the items has no index. \\n But you can loop through the set items using a for loop, or ask if a specified value is present in a set, by using the in keyword.\\n\")\n",
    "\n",
    "print(\"Syntax: print(\\\"banana\\\" in {\\\"apple\\\", \\\"banana\\\", \\\"cherry\\\"}\")\n",
    "print(\"Output is: \", \"banana\" in demo_set)"
   ]
  },
  {
   "cell_type": "code",
   "execution_count": 9,
   "metadata": {},
   "outputs": [
    {
     "name": "stdout",
     "output_type": "stream",
     "text": [
      "Add Items\n",
      " To add one item to a set use the add() method.\n",
      " To add more than one item to a set use the update() method.\n",
      "\n",
      "Example 1: Using add() to add new item in the set:\n",
      "Set 1 is: {set_1} {'apple', 'cherry', 'banana'}\n",
      "Item to add: \"orange\"\n",
      "\n",
      "#Syntax: set_1.add(new_item)\n",
      "\n",
      "New Set after the add function:  {'apple', 'cherry', 'banana'}\n",
      "Example 2: Add multiple items to a set, using the update() method:\n",
      "On the same set as earlier we can add multiple items:\n",
      "\n",
      "Items to add are: multiple_items = [\"orange\", \"mangoes\"]\n",
      "#Syntax: set_1.update(new_item)\n",
      "\n",
      "New Set after updating the multiple items: {'banana', 'mangoes', 'apple', 'cherry', 'orange'}\n"
     ]
    }
   ],
   "source": [
    "print(\"Add Items\\n To add one item to a set use the add() method.\\n To add more than one item to a set use the update() method.\\n\")\n",
    "\n",
    "print(\"Example 1: Using add() to add new item in the set:\")\n",
    "set_1 = {\"apple\", \"banana\", \"cherry\"}\n",
    "print(\"Set 1 is: {set_1}\", set_1)\n",
    "new_item = \"orange\"\n",
    "print(\"Item to add: \\\"orange\\\"\\n\")\n",
    "\n",
    "print(\"#Syntax: set_1.add(new_item)\\n\")\n",
    "print(\"New Set after the add function: \", set_1)\n",
    "\n",
    "print(\"Example 2: Add multiple items to a set, using the update() method:\")\n",
    "print(\"On the same set as earlier we can add multiple items:\\n\")\n",
    "print(\"Items to add are: multiple_items = [\\\"orange\\\", \\\"mangoes\\\"]\")\n",
    "multiple_items = [\"orange\", \"mangoes\"]\n",
    "print(\"#Syntax: set_1.update(new_item)\\n\")\n",
    "set_1.update(multiple_items)\n",
    "print(\"New Set after updating the multiple items:\", set_1)"
   ]
  },
  {
   "cell_type": "code",
   "execution_count": 10,
   "metadata": {},
   "outputs": [
    {
     "name": "stdout",
     "output_type": "stream",
     "text": [
      "Get the Length of a Set \n",
      " To determine how many items a set has, use the len() method.\n",
      "Example: To find the length of a given set\n",
      "\n",
      "demo_set = {\"apple\", \"banana\", \"cherry\"}\n",
      "#Syntax: len(demo_set)\n",
      "3\n"
     ]
    }
   ],
   "source": [
    "print(\"Get the Length of a Set \\n To determine how many items a set has, use the len() method.\")\n",
    "print(\"Example: To find the length of a given set\\n\")\n",
    "print(\"demo_set = {\\\"apple\\\", \\\"banana\\\", \\\"cherry\\\"}\")\n",
    "demo_set = {\"apple\", \"banana\", \"cherry\"}\n",
    "print(\"#Syntax: len(demo_set)\")\n",
    "print(len(demo_set))"
   ]
  },
  {
   "cell_type": "code",
   "execution_count": 27,
   "metadata": {},
   "outputs": [
    {
     "name": "stdout",
     "output_type": "stream",
     "text": [
      "Remove Item\n",
      " To remove an item in a set, use the remove(), or the discard() method.\n",
      "Example 1: To remove the item: \"banana\"\n",
      "\n",
      "demo_set = {\"apple\", \"banana\", \"cherry\"}\n",
      "#Syntax: demo_set.remove(\"banana\")\n",
      "{'apple', 'cherry'}\n",
      "\n",
      "Note: If the item to remove does not exist, remove() will raise an error.\n",
      "Example 1: To remove the item: \"apple\"\n",
      "\n",
      "#Syntax: demo_set.discard(\"apple\")\n",
      "{'cherry'}\n",
      "Note: If the item to remove does not exist, discard() will NOT raise an error.\n",
      "\n",
      "Example 2: Remove the last item by using the pop() method:\n",
      "#Syntax: demo_set.pop(\"banana\")\n",
      "{'cherry', 'banana'}\n",
      "Note: Sets are unordered, so when using the pop() method, you will not know which item that gets removed.\n",
      "\n",
      "Example 3: The clear() method empties the set:\n",
      "#Syntax: demo_set.clear()\n",
      "set()\n",
      "\n",
      "Example 4: The del keyword will delete the set completely:\n",
      "#Syntax: del demo_set\n",
      "print(demo_set)#this will raise an error because the set no longer exists\n"
     ]
    }
   ],
   "source": [
    "print(\"Remove Item\\n To remove an item in a set, use the remove(), or the discard() method.\")\n",
    "print(\"Example 1: To remove the item: \\\"banana\\\"\\n\")\n",
    "print(\"demo_set = {\\\"apple\\\", \\\"banana\\\", \\\"cherry\\\"}\")\n",
    "demo_set = {\"apple\", \"banana\", \"cherry\"}\n",
    "print(\"#Syntax: demo_set.remove(\\\"banana\\\")\")\n",
    "demo_set.remove(\"banana\")\n",
    "print(demo_set)\n",
    "print(\"\\nNote: If the item to remove does not exist, remove() will raise an error.\")\n",
    "print(\"Example 1: To remove the item: \\\"apple\\\"\\n\")\n",
    "print(\"#Syntax: demo_set.discard(\\\"apple\\\")\")\n",
    "demo_set.discard(\"apple\")\n",
    "print(demo_set)\n",
    "print(\"Note: If the item to remove does not exist, discard() will NOT raise an error.\")\n",
    "print(\"\\nExample 2: Remove the last item by using the pop() method:\")\n",
    "demo_set = {\"apple\", \"banana\", \"cherry\"}\n",
    "print(\"#Syntax: demo_set.pop(\\\"banana\\\")\")\n",
    "demo_set.pop()\n",
    "print(demo_set)\n",
    "print(\"Note: Sets are unordered, so when using the pop() method, you will not know which item that gets removed.\")\n",
    "print(\"\\nExample 3: The clear() method empties the set:\")\n",
    "demo_set = {\"apple\", \"banana\", \"cherry\"}\n",
    "print(\"#Syntax: demo_set.clear()\")\n",
    "demo_set.clear()\n",
    "print(demo_set)\n",
    "\n",
    "print(\"\\nExample 4: The del keyword will delete the set completely:\")\n",
    "demo_set = {\"apple\", \"banana\", \"cherry\"}\n",
    "print(\"#Syntax: del demo_set\")\n",
    "del demo_set\n",
    "\n",
    "print(\"print(demo_set)#this will raise an error because the set no longer exists\")\n"
   ]
  },
  {
   "cell_type": "code",
   "execution_count": 34,
   "metadata": {},
   "outputs": [
    {
     "name": "stdout",
     "output_type": "stream",
     "text": [
      "Join Two Sets\n",
      " There are several ways to join two or more sets in Python.\n",
      "You can use the union() method that returns a new set containing all items from both sets, or the update() method that inserts all the items from one set into another:\n",
      "\n",
      "Example 1: The union() method returns a new set with all items from both sets:\n",
      "Set 1: {'apple', 'cherry', 'banana'} Set 2: {1, 2, 3}\n",
      "#Syntax: demo_set_1.union(demo_set_2)\n",
      "The value after Union:  {1, 'apple', 2, 3, 'banana', 'cherry'}\n",
      "\n",
      "Example 2: The update() method inserts the items in set2 into set1:\n",
      "#Syntax: demo_set_1.update(demo_set_2)\n",
      "The value after updating:  {1, 'apple', 2, 3, 'banana', 'cherry'}\n",
      "\n",
      "Note: Both union() and update() will exclude any duplicate items.\n"
     ]
    }
   ],
   "source": [
    "print(\"Join Two Sets\\n There are several ways to join two or more sets in Python.\\nYou can use the union() method that returns a new set containing all items from both sets, or the update() method that inserts all the items from one set into another:\")\n",
    "print(\"\\nExample 1: The union() method returns a new set with all items from both sets:\")\n",
    "demo_set_1 = {\"apple\", \"banana\", \"cherry\"}\n",
    "demo_set_2 = {1,2,3}\n",
    "print(\"Set 1:\", demo_set_1, \"Set 2:\", demo_set_2)\n",
    "print(\"#Syntax: demo_set_1.union(demo_set_2)\")\n",
    "demo_set_3 = demo_set_1.union(demo_set_2)\n",
    "print(\"The value after Union: \",demo_set_3)\n",
    "\n",
    "print(\"\\nExample 2: The update() method inserts the items in set2 into set1:\")\n",
    "demo_set_1 = {\"apple\", \"banana\", \"cherry\"}\n",
    "demo_set_2 = {1,2,3}\n",
    "print(\"#Syntax: demo_set_1.update(demo_set_2)\")\n",
    "demo_set_1.update(demo_set_2)\n",
    "print(\"The value after updating: \",demo_set_1)\n",
    "print(\"\\nNote: Both union() and update() will exclude any duplicate items.\")"
   ]
  },
  {
   "cell_type": "code",
   "execution_count": 37,
   "metadata": {},
   "outputs": [
    {
     "name": "stdout",
     "output_type": "stream",
     "text": [
      "The set() Constructor\n",
      " It is also possible to use the set() constructor to make a set.\n",
      "Example: Using the set() constructor to make a set:\n",
      "\n",
      "#Syntax: set((\"apple\", \"banana\",\"grapes\"))\n",
      "Set after using set(): {'apple', 'banana', 'grapes'}\n"
     ]
    }
   ],
   "source": [
    "print(\"The set() Constructor\\n It is also possible to use the set() constructor to make a set.\")\n",
    "print(\"Example: Using the set() constructor to make a set:\\n\")\n",
    "demo_set = set((\"apple\", \"banana\",\"grapes\"))\n",
    "print(\"#Syntax: set((\\\"apple\\\", \\\"banana\\\",\\\"grapes\\\"))\")\n",
    "print(\"Set after using set():\",demo_set)"
   ]
  },
  {
   "cell_type": "code",
   "execution_count": null,
   "metadata": {},
   "outputs": [],
   "source": []
  }
 ],
 "metadata": {
  "kernelspec": {
   "display_name": "Python 3",
   "language": "python",
   "name": "python3"
  },
  "language_info": {
   "codemirror_mode": {
    "name": "ipython",
    "version": 3
   },
   "file_extension": ".py",
   "mimetype": "text/x-python",
   "name": "python",
   "nbconvert_exporter": "python",
   "pygments_lexer": "ipython3",
   "version": "3.7.6"
  }
 },
 "nbformat": 4,
 "nbformat_minor": 4
}
