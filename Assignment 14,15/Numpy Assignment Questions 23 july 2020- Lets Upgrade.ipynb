{
 "cells": [
  {
   "cell_type": "markdown",
   "metadata": {},
   "source": [
    "# 1. Create a 3x3x3 array with random values "
   ]
  },
  {
   "cell_type": "code",
   "execution_count": 3,
   "metadata": {},
   "outputs": [
    {
     "name": "stdout",
     "output_type": "stream",
     "text": [
      "[[[0.50335946 0.33632777 0.95340658]\n",
      "  [0.97636394 0.4499742  0.72862481]\n",
      "  [0.82445854 0.51445753 0.9635533 ]]\n",
      "\n",
      " [[0.36181392 0.27209729 0.92400059]\n",
      "  [0.51979632 0.54332201 0.73276163]\n",
      "  [0.85891967 0.82115938 0.6343993 ]]\n",
      "\n",
      " [[0.12374264 0.87958341 0.84304846]\n",
      "  [0.83079792 0.20016272 0.90183389]\n",
      "  [0.07249843 0.04367563 0.7196457 ]]]\n"
     ]
    }
   ],
   "source": [
    "import numpy as np\n",
    "arr = np.random.random((3,3,3))\n",
    "print(arr)"
   ]
  },
  {
   "cell_type": "markdown",
   "metadata": {},
   "source": [
    "# 2.Create a 5x5 matrix with values 1,2,3,4 just below the diagonal"
   ]
  },
  {
   "cell_type": "code",
   "execution_count": 12,
   "metadata": {},
   "outputs": [
    {
     "name": "stdout",
     "output_type": "stream",
     "text": [
      "[[0 0 0 0 0]\n",
      " [1 0 0 0 0]\n",
      " [0 2 0 0 0]\n",
      " [0 0 3 0 0]\n",
      " [0 0 0 4 0]]\n"
     ]
    }
   ],
   "source": [
    "arr_q2 = np.diag([1,2,3,4],1).T\n",
    "print(arr_q2)"
   ]
  },
  {
   "cell_type": "markdown",
   "metadata": {},
   "source": [
    "# 3.Create a 8x8 matrix and fill it with a checkerboard pattern"
   ]
  },
  {
   "cell_type": "code",
   "execution_count": 15,
   "metadata": {},
   "outputs": [
    {
     "name": "stdout",
     "output_type": "stream",
     "text": [
      "[[0. 1. 0. 1. 0. 1. 0. 1.]\n",
      " [1. 0. 1. 0. 1. 0. 1. 0.]\n",
      " [0. 1. 0. 1. 0. 1. 0. 1.]\n",
      " [1. 0. 1. 0. 1. 0. 1. 0.]\n",
      " [0. 1. 0. 1. 0. 1. 0. 1.]\n",
      " [1. 0. 1. 0. 1. 0. 1. 0.]\n",
      " [0. 1. 0. 1. 0. 1. 0. 1.]\n",
      " [1. 0. 1. 0. 1. 0. 1. 0.]]\n"
     ]
    }
   ],
   "source": [
    "arr_q3 = np.zeros((8,8))\n",
    "arr_q3[1::2,::2] = 1\n",
    "arr_q3[::2,1::2] = 1\n",
    "print(arr_q3)"
   ]
  },
  {
   "cell_type": "markdown",
   "metadata": {},
   "source": [
    "# 4. Normalize a 5x5 random matrix"
   ]
  },
  {
   "cell_type": "code",
   "execution_count": 21,
   "metadata": {},
   "outputs": [
    {
     "name": "stdout",
     "output_type": "stream",
     "text": [
      "Original Array:\n",
      " [[1.60997301e-01 1.73042225e-01 4.71413590e-01]\n",
      " [2.58204884e-01 9.93615325e-01 6.20331838e-01]\n",
      " [1.47681954e-01 3.76974198e-04 4.59898750e-01]]\n",
      "Normalized Form:\n",
      "\n",
      "[[ 0.12578873  0.13870293  0.45860762]\n",
      " [ 0.23001174  1.01849641  0.61827323]\n",
      " [ 0.11151242 -0.0464235   0.44626176]]\n"
     ]
    }
   ],
   "source": [
    "arr_q4 = np.random.random((3,3))\n",
    "print(\"Original Array:\\n\",arr_q4)\n",
    "arr_max = arr.max()\n",
    "arr_min = arr.min()\n",
    "arr_q4 = (arr_q4-arr_min)/(arr_max-arr_min)\n",
    "print(\"Normalized Form:\\n\")\n",
    "print(arr_q4)"
   ]
  },
  {
   "cell_type": "markdown",
   "metadata": {},
   "source": [
    "# 5.  How to find common values between two arrays?"
   ]
  },
  {
   "cell_type": "code",
   "execution_count": 24,
   "metadata": {},
   "outputs": [
    {
     "name": "stdout",
     "output_type": "stream",
     "text": [
      "First Array:\n",
      " [1 2 3 4 5]\n",
      "First Array:\n",
      " [ 8 10  3  5]\n",
      "CommonValues between the two arrays:\n",
      "\n",
      "[3 5]\n"
     ]
    }
   ],
   "source": [
    "arr_q5_1 = np.array([1,2,3,4,5])\n",
    "print(\"First Array:\\n\", arr_q5_1)\n",
    "arr_q5_2 = np.array([8,10,3,5])\n",
    "print(\"First Array:\\n\", arr_q5_2)\n",
    "print(\"CommonValues between the two arrays:\\n\")\n",
    "print(np.intersect1d(arr_q5_1,arr_q5_2))"
   ]
  },
  {
   "cell_type": "markdown",
   "metadata": {},
   "source": [
    "# 6.How to get the dates of yesterday, today and tomorrow?"
   ]
  },
  {
   "cell_type": "code",
   "execution_count": 26,
   "metadata": {},
   "outputs": [
    {
     "name": "stdout",
     "output_type": "stream",
     "text": [
      "Yestraday's Date:  2020-07-27\n",
      "Today's Date:  2020-07-28\n",
      "Tomorrow's Date:  2020-07-29\n"
     ]
    }
   ],
   "source": [
    "yesterday = np.datetime64('today', 'D') - np.timedelta64(1, 'D')\n",
    "print(\"Yestraday's Date: \",yesterday)\n",
    "today     = np.datetime64('today', 'D')\n",
    "print(\"Today's Date: \",today)\n",
    "tomorrow  = np.datetime64('today', 'D') + np.timedelta64(1, 'D')\n",
    "print(\"Tomorrow's Date: \",tomorrow)"
   ]
  },
  {
   "cell_type": "markdown",
   "metadata": {},
   "source": [
    "# 7. Consider two random array A and B, check if they are equal"
   ]
  },
  {
   "cell_type": "code",
   "execution_count": 38,
   "metadata": {},
   "outputs": [
    {
     "name": "stdout",
     "output_type": "stream",
     "text": [
      "First Array: [2 1 0]\n",
      "Second Array: [1 2 1]\n",
      "Lets Compare:\n",
      "Are the two random arrays equal: False\n"
     ]
    }
   ],
   "source": [
    "arr_q7_1 = np.random.randint((3,3,3))\n",
    "print(\"First Array:\",arr_q7_1)\n",
    "arr_q7_2 = np.random.randint((3,3,3))\n",
    "print(\"Second Array:\",arr_q7_2)\n",
    "print(\"Lets Compare:\")\n",
    "print(\"Are the two random arrays equal:\",np.allclose(arr_q7_1,arr_q7_2))"
   ]
  },
  {
   "cell_type": "markdown",
   "metadata": {},
   "source": [
    "# 8.Create random vector of size 10 and replace the maximum value by 0 "
   ]
  },
  {
   "cell_type": "code",
   "execution_count": 44,
   "metadata": {},
   "outputs": [
    {
     "name": "stdout",
     "output_type": "stream",
     "text": [
      "Original Vector:\n",
      "[0.85409106 0.27568666 0.56816471 0.91258471 0.3228196  0.80868208\n",
      " 0.93983635 0.14064396 0.08817256 0.32218166]\n",
      "Vector after Replacement:\n",
      " [0.85409106 0.27568666 0.56816471 0.91258471 0.3228196  0.80868208\n",
      " 0.         0.14064396 0.08817256 0.32218166]\n"
     ]
    }
   ],
   "source": [
    "vec_q8 = np.random.random(10)\n",
    "print(\"Original Vector:\")\n",
    "print(vec_q8)\n",
    "vec_q8[vec_q8.argmax()] = 0\n",
    "print(\"Vector after Replacement:\\n\",vec_q8)"
   ]
  },
  {
   "cell_type": "markdown",
   "metadata": {},
   "source": [
    "# 9. How to print all the values of an array?"
   ]
  },
  {
   "cell_type": "code",
   "execution_count": 46,
   "metadata": {},
   "outputs": [
    {
     "name": "stdout",
     "output_type": "stream",
     "text": [
      "[0 1 2 3 4 5 6 7 8 9]\n"
     ]
    }
   ],
   "source": [
    "arr_q9 = np. arange(10)\n",
    "print(arr_q9)\n",
    "    "
   ]
  },
  {
   "cell_type": "markdown",
   "metadata": {},
   "source": [
    "# 10.Subtract the mean of each row of a matrix"
   ]
  },
  {
   "cell_type": "code",
   "execution_count": 50,
   "metadata": {},
   "outputs": [
    {
     "name": "stdout",
     "output_type": "stream",
     "text": [
      "Initial Matrix: [[0.64262948 0.27674731 0.60145296 0.75797195]\n",
      " [0.00196684 0.37502834 0.39567142 0.60438769]\n",
      " [0.1237617  0.63954053 0.9000738  0.02784781]\n",
      " [0.47792    0.68214376 0.58248918 0.91773201]]\n",
      "\n",
      "Matrix after the subtraction of mean: [[ 0.07292906 -0.29295312  0.03175253  0.18827153]\n",
      " [-0.34229673  0.03076477  0.05140785  0.26012412]\n",
      " [-0.29904426  0.21673457  0.47726784 -0.39495815]\n",
      " [-0.18715124  0.01707253 -0.08258206  0.25266077]]\n"
     ]
    }
   ],
   "source": [
    "arr_q10 = np.random.rand(4,4)\n",
    "print(\"Initial Matrix:\",arr_q10)\n",
    "arr_q10_1 = arr_q10 - arr_q10.mean(axis=1, keepdims=True)\n",
    "print(\"\\nMatrix after the subtraction of mean:\",arr_q10_1)"
   ]
  },
  {
   "cell_type": "markdown",
   "metadata": {},
   "source": [
    "# 11.Consider a given vector, how to add 1 to each element indexed by a second vector (be careful with repeated indices)? "
   ]
  },
  {
   "cell_type": "code",
   "execution_count": 52,
   "metadata": {},
   "outputs": [
    {
     "name": "stdout",
     "output_type": "stream",
     "text": [
      "[2. 1. 4. 5. 3.]\n"
     ]
    }
   ],
   "source": [
    "vec_q11 = np.ones(5)\n",
    "vec_q11_1 = np.random.randint(0,len(vec_q11),10)\n",
    "vec_q11 += np.bincount(vec_q11_1, minlength=len(vec_q11))\n",
    "print(vec_q11)"
   ]
  },
  {
   "cell_type": "markdown",
   "metadata": {},
   "source": [
    "# 12.How to get the diagonal of a dot product?"
   ]
  },
  {
   "cell_type": "code",
   "execution_count": 28,
   "metadata": {},
   "outputs": [
    {
     "name": "stdout",
     "output_type": "stream",
     "text": [
      "Vector 1:\n",
      " [[2 1 1]\n",
      " [1 2 2]\n",
      " [1 1 2]]\n",
      "Vector 2:\n",
      " [[1 2 2]\n",
      " [1 2 2]\n",
      " [2 1 1]]\n",
      "Dot Product:\n",
      " [[5 7 7]\n",
      " [7 8 8]\n",
      " [6 6 6]] \n",
      "\n",
      "Diagonal of the dot product: [5 8 6]\n"
     ]
    }
   ],
   "source": [
    "import numpy as np\n",
    "vec_q12_1 = np.random.randint(1,3,(3,3))\n",
    "print(\"Vector 1:\\n\", vec_q12_1)\n",
    "vec_q12_2 = np.random.randint(1,3,(3,3))\n",
    "print(\"Vector 2:\\n\", vec_q12_2)\n",
    "product_q12 = vec_q12_1.dot(vec_q12_2)\n",
    "print(\"Dot Product:\\n\", product_q12,\"\\n\")\n",
    "print(\"Diagonal of the dot product:\", np.diagonal(product_q12))"
   ]
  },
  {
   "cell_type": "markdown",
   "metadata": {},
   "source": [
    "# 13.How to find the most frequent value in an array?"
   ]
  },
  {
   "cell_type": "code",
   "execution_count": 35,
   "metadata": {},
   "outputs": [
    {
     "name": "stdout",
     "output_type": "stream",
     "text": [
      "Initial array:\n",
      "[4 4 1 1 4]\n",
      "Most frequent value:\n",
      "  4\n"
     ]
    }
   ],
   "source": [
    "arr_q13 = np.random.randint(0,5,5)\n",
    "print(\"Initial array:\")\n",
    "print(arr_q13)\n",
    "print(\"Most frequent value:\\n \",np.bincount(arr_q13).argmax())"
   ]
  },
  {
   "cell_type": "markdown",
   "metadata": {},
   "source": [
    "# 14.How to get the n largest values of an array"
   ]
  },
  {
   "cell_type": "code",
   "execution_count": 87,
   "metadata": {},
   "outputs": [
    {
     "name": "stdout",
     "output_type": "stream",
     "text": [
      "Initial array:\n",
      "[1 2 6 3 5 0 4 7]\n",
      "[7]\n"
     ]
    }
   ],
   "source": [
    "import numpy as np\n",
    "arr_q14 = np.arange(8)\n",
    "print(\"Initial array:\")\n",
    "np.random.shuffle(arr_q14)\n",
    "print(arr_q14)\n",
    "print(arr_q14[np.sort(arr_q14)[-1:]])"
   ]
  },
  {
   "cell_type": "markdown",
   "metadata": {},
   "source": [
    "# 15.How to create a record array from a regular array?"
   ]
  },
  {
   "cell_type": "code",
   "execution_count": 89,
   "metadata": {},
   "outputs": [
    {
     "name": "stdout",
     "output_type": "stream",
     "text": [
      "[(1, 'a', 1.2) (2, 'b', 3.5) (3, 'c', 4.1)]\n"
     ]
    }
   ],
   "source": [
    "import numpy as np\n",
    "arr_q15_1=np.array([1,2,3])\n",
    "arr_q15_2=np.array(['a','b','c'])\n",
    "arr_q15_3=np.array([1.2,3.5,4.1])\n",
    "final_arr= np.core.records.fromarrays([arr_q15_1, arr_q15_2, arr_q15_3])\n",
    "print(final_arr)\n"
   ]
  }
 ],
 "metadata": {
  "kernelspec": {
   "display_name": "Python 3",
   "language": "python",
   "name": "python3"
  },
  "language_info": {
   "codemirror_mode": {
    "name": "ipython",
    "version": 3
   },
   "file_extension": ".py",
   "mimetype": "text/x-python",
   "name": "python",
   "nbconvert_exporter": "python",
   "pygments_lexer": "ipython3",
   "version": "3.7.6"
  }
 },
 "nbformat": 4,
 "nbformat_minor": 2
}
