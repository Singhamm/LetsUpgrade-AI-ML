{
 "cells": [
  {
   "cell_type": "code",
   "execution_count": 20,
   "metadata": {},
   "outputs": [
    {
     "name": "stdout",
     "output_type": "stream",
     "text": [
      "First 20 Non-even prime natural numbers are:\n",
      "5\n",
      "7\n",
      "9\n",
      "11\n",
      "13\n",
      "15\n",
      "17\n",
      "19\n"
     ]
    }
   ],
   "source": [
    "#Question: Write a Python program to find the first 20 non-even prime natural numbers.\n",
    "#Answer: \n",
    "flag= 0\n",
    "print(\"First 20 Non-even prime natural numbers are:\")\n",
    "for i in range(1,21):\n",
    "    if (i>1):\n",
    "        for j in range(2,(i//2)+1):\n",
    "            if((i%j==1)&(i%2==1)):\n",
    "                flag=1\n",
    "            else:\n",
    "                flag=0\n",
    "        \n",
    "        if(flag==1):\n",
    "                print(i)"
   ]
  },
  {
   "cell_type": "code",
   "execution_count": 67,
   "metadata": {},
   "outputs": [
    {
     "name": "stdout",
     "output_type": "stream",
     "text": [
      "Functions are formed on the sample string:  gibberish SOMETHING\n",
      "1: capitalize:: string_sample.capitalize() :  Gibberish something\n",
      "2: count:: string_sample.count() for b:  2\n",
      "3: find:: string_sample.find() for e:  4\n",
      "4: index:: string_sample.index() for e 4\n",
      "5: isalnum:: string_sample.isalnum() False\n",
      "6: islower:: string_sample.islower() False\n",
      "7: isupper:: string_sample.isupper() False\n",
      "8: istitle:: string_sample.istitle()  False\n",
      "9: title:: string_sample.title()  Gibberish Something\n",
      "10: lower:: string_sample.lower()  gibberish something\n",
      "11: upper:: string_sample.upper()  GIBBERISH SOMETHING\n",
      "12: replace:: string_sample.replace()  glbberlsh SOMETHING\n",
      "13: partition:: string_sample.partition()  ('g', 'i', 'bberish SOMETHING')\n",
      "14: split:: string_sample.split()  ['g', 'bber', 'sh SOMETHING']\n",
      "15: swapcase:: string_sample.swapcase()  GIBBERISH something\n"
     ]
    }
   ],
   "source": [
    "#Question: Write a Python program to implement 15 functions of string.\n",
    "#Answer:\n",
    "string_sample = \"gibberish SOMETHING\"\n",
    "print(\"Functions are formed on the sample string: \",string_sample)\n",
    "print(\"1: capitalize:: string_sample.capitalize() : \",string_sample.capitalize())\n",
    "print(\"2: count:: string_sample.count() for b: \",string_sample.count(\"b\"))\n",
    "print(\"3: find:: string_sample.find() for e: \",string_sample.find(\"e\"))\n",
    "print(\"4: index:: string_sample.index() for e\",string_sample.index(\"e\"))\n",
    "print(\"5: isalnum:: string_sample.isalnum()\",string_sample.isalnum())\n",
    "print(\"6: islower:: string_sample.islower()\",string_sample.islower())\n",
    "print(\"7: isupper:: string_sample.isupper()\",string_sample.isupper())\n",
    "print(\"8: istitle:: string_sample.istitle() \",string_sample.istitle())\n",
    "print(\"9: title:: string_sample.title() \",string_sample.title())\n",
    "print(\"10: lower:: string_sample.lower() \",string_sample.lower())\n",
    "print(\"11: upper:: string_sample.upper() \",string_sample.upper())\n",
    "print(\"12: replace:: string_sample.replace() \",string_sample.replace(\"i\",\"l\"))\n",
    "print(\"13: partition:: string_sample.partition() \", string_sample.partition(\"i\"))\n",
    "print(\"14: split:: string_sample.split() \", string_sample.split(\"i\"))\n",
    "print(\"15: swapcase:: string_sample.swapcase() \", string_sample.swapcase())"
   ]
  },
  {
   "cell_type": "code",
   "execution_count": 1,
   "metadata": {},
   "outputs": [
    {
     "name": "stdout",
     "output_type": "stream",
     "text": [
      "Please input a string to check:listen\n",
      "Since this is not a Palindrome, input one more string. Let's check for Anagram:\n",
      "\n",
      "Please input the second term:silent\n",
      "Anagram\n"
     ]
    }
   ],
   "source": [
    "#Question: Write a Python program to check if the given string is a Palindrome or Anagram or None of them.Display the message accordingly to the user.\n",
    "#Answer: \n",
    "txt_1 = input(\"Please input a string to check:\")\n",
    "\n",
    "#Function to check Palindrome\n",
    "def is_Palindrome(s):\n",
    "    return (s==s[::-1])\n",
    "\n",
    "#Function to check Anagram        \n",
    "def is_Anagram(s1):\n",
    "    print(\"Since this is not a Palindrome, input one more string. Let's check for Anagram:\\n\")\n",
    "    s2=input(\"Please input the second term:\")\n",
    "    return (sorted(s1)==sorted(s2))\n",
    "    \n",
    "#Calling the functions to check if the inserted string is Palindrome or Anagram or None\n",
    "if (is_Palindrome(txt_1)==True):\n",
    "  print (\"Checking:\",txt_1)\n",
    "  print(\"Palindrome\")\n",
    "\n",
    "elif(is_Anagram(txt_1)):\n",
    "  print(\"Anagram\")\n",
    "\n",
    "else:\n",
    "  print(\"Not a Palindrome nor Anagram\")"
   ]
  },
  {
   "cell_type": "code",
   "execution_count": 54,
   "metadata": {},
   "outputs": [
    {
     "name": "stdout",
     "output_type": "stream",
     "text": [
      "Provided Sample for removing characters: Dr. Darshan Ingle@AI-ML Trainer\n",
      "Output after the processing: drdarshaningleaimltrainer\n"
     ]
    }
   ],
   "source": [
    "#Question: Write a Python's user defined function that removes all the additional characters from the stringand converts it finally to lower case using built-in lower(). eg: If the string is \"Dr. Darshan Ingle@AI-ML Trainer\", then the output be \"drdarshaningleaimltrainer\".\n",
    "#Answer: \n",
    "\n",
    "def characters_remover(sample):\n",
    "    i = []\n",
    "    new_sample = sample.replace(\" \",\"\")                      #Removing the spaces\n",
    "    print (\"Provided Sample for removing characters:\", sample)\n",
    "    for char in new_sample:\n",
    "        i.append(char)\n",
    "\n",
    "    for sep_char in i:                                       #Removing the additional characters\n",
    "        if(sep_char in (\" \" , \".\" , \"/\" , \"!\" , \"@\" , \"#\" , \"$\" , \"%\" , \"^\" , \"*\" , \"(\" , \")\" , \"_\" , \"-\" , \"{\" , \"}\" , \"+\")):\n",
    "            i.remove(sep_char)\n",
    "    return i\n",
    "\n",
    "sample = \"Dr. Darshan Ingle@AI-ML Trainer\"          #Sample as provided\n",
    "x = \"\".join(characters_remover(sample)).lower()     #Used join and lower function to join the returned value and for lowercase\n",
    "print (\"Output after the processing:\",x)"
   ]
  },
  {
   "cell_type": "code",
   "execution_count": null,
   "metadata": {},
   "outputs": [],
   "source": []
  }
 ],
 "metadata": {
  "kernelspec": {
   "display_name": "Python 3",
   "language": "python",
   "name": "python3"
  },
  "language_info": {
   "codemirror_mode": {
    "name": "ipython",
    "version": 3
   },
   "file_extension": ".py",
   "mimetype": "text/x-python",
   "name": "python",
   "nbconvert_exporter": "python",
   "pygments_lexer": "ipython3",
   "version": "3.7.6"
  }
 },
 "nbformat": 4,
 "nbformat_minor": 4
}
